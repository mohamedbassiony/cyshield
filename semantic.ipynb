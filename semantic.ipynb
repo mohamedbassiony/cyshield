{
 "cells": [
  {
   "cell_type": "code",
   "execution_count": 1,
   "metadata": {},
   "outputs": [],
   "source": [
    "import pandas as pd\n",
    "import numpy as np\n",
    "from sklearn.feature_extraction.text import TfidfVectorizer, CountVectorizer\n",
    "from sklearn.model_selection import train_test_split\n",
    "from sklearn.decomposition import LatentDirichletAllocation\n",
    "from sklearn.metrics.pairwise import cosine_similarity\n",
    "from sklearn.preprocessing import LabelEncoder\n",
    "from gensim.models import Word2Vec\n",
    "from nltk.corpus import stopwords\n",
    "from nltk.tokenize import word_tokenize\n",
    "from nltk.stem import WordNetLemmatizer\n",
    "import time\n",
    "import multiprocessing as mp"
   ]
  },
  {
   "cell_type": "code",
   "execution_count": 2,
   "metadata": {},
   "outputs": [
    {
     "name": "stderr",
     "output_type": "stream",
     "text": [
      "[nltk_data] Downloading package stopwords to\n",
      "[nltk_data]     C:\\Users\\moham\\AppData\\Roaming\\nltk_data...\n",
      "[nltk_data]   Package stopwords is already up-to-date!\n",
      "[nltk_data] Downloading package punkt to\n",
      "[nltk_data]     C:\\Users\\moham\\AppData\\Roaming\\nltk_data...\n",
      "[nltk_data]   Package punkt is already up-to-date!\n",
      "[nltk_data] Downloading package wordnet to\n",
      "[nltk_data]     C:\\Users\\moham\\AppData\\Roaming\\nltk_data...\n",
      "[nltk_data]   Package wordnet is already up-to-date!\n"
     ]
    },
    {
     "data": {
      "text/plain": [
       "True"
      ]
     },
     "execution_count": 2,
     "metadata": {},
     "output_type": "execute_result"
    }
   ],
   "source": [
    "# Preprocessing steps\n",
    "import nltk\n",
    "nltk.download('stopwords')\n",
    "nltk.download('punkt')\n",
    "nltk.download('wordnet')"
   ]
  },
  {
   "cell_type": "code",
   "execution_count": 3,
   "metadata": {},
   "outputs": [],
   "source": [
    "# Read the data\n",
    "df = pd.read_csv(\"in_domain_train.tsv\", delimiter='\\t', header=None, names=['sentence_source', 'label', 'label_notes', 'sentence'])[['sentence']]\n",
    "\n",
    "# Sample the data\n",
    "sample_size = 100\n",
    "df = df.sample(n=sample_size, random_state=42)\n",
    "df.reset_index(drop=True, inplace=True)"
   ]
  },
  {
   "cell_type": "code",
   "execution_count": 4,
   "metadata": {},
   "outputs": [],
   "source": [
    "# Preprocessing function\n",
    "lemmatizer = WordNetLemmatizer()\n",
    "stop_words = set(stopwords.words('english'))"
   ]
  },
  {
   "cell_type": "code",
   "execution_count": 5,
   "metadata": {},
   "outputs": [],
   "source": [
    "# Preprocessing function\n",
    "def preprocess_text(text):\n",
    "    text = text.lower()\n",
    "    text = ''.join([char for char in text if char.isalnum() or char.isspace()])\n",
    "    return text"
   ]
  },
  {
   "cell_type": "code",
   "execution_count": 6,
   "metadata": {},
   "outputs": [],
   "source": [
    "df['sentence'] = df['sentence'].apply(preprocess_text)"
   ]
  },
  {
   "cell_type": "code",
   "execution_count": 7,
   "metadata": {},
   "outputs": [],
   "source": [
    "# Split data into train, validation, and test sets\n",
    "X_train, X_temp = train_test_split(df['sentence'], test_size=0.3, random_state=42)\n",
    "X_val, X_test = train_test_split(X_temp, test_size=0.5, random_state=42)"
   ]
  },
  {
   "cell_type": "code",
   "execution_count": 8,
   "metadata": {},
   "outputs": [
    {
     "name": "stdout",
     "output_type": "stream",
     "text": [
      "Shape of X_train: (70,)\n",
      "Shape of X_val: (15,)\n",
      "Shape of X_test: (15,)\n"
     ]
    }
   ],
   "source": [
    "print(\"Shape of X_train:\", X_train.shape)\n",
    "print(\"Shape of X_val:\", X_val.shape)\n",
    "print(\"Shape of X_test:\", X_test.shape)"
   ]
  },
  {
   "cell_type": "code",
   "execution_count": 9,
   "metadata": {},
   "outputs": [],
   "source": [
    "# TF-IDF Vectorizer\n",
    "tfidf_vectorizer = TfidfVectorizer(max_features=10)\n",
    "X_train_tfidf = tfidf_vectorizer.fit_transform(X_train)\n",
    "X_val_tfidf = tfidf_vectorizer.transform(X_val)\n",
    "X_test_tfidf = tfidf_vectorizer.transform(X_test)"
   ]
  },
  {
   "cell_type": "code",
   "execution_count": 10,
   "metadata": {},
   "outputs": [],
   "source": [
    "# Count Vectorizer\n",
    "count_vectorizer = CountVectorizer(max_features=10)\n",
    "X_train_count = count_vectorizer.fit_transform(X_train)\n",
    "X_val_count = count_vectorizer.transform(X_val)\n",
    "X_test_count = count_vectorizer.transform(X_test)"
   ]
  },
  {
   "cell_type": "code",
   "execution_count": 11,
   "metadata": {},
   "outputs": [],
   "source": [
    "# LDA for topic modeling\n",
    "lda = LatentDirichletAllocation(n_components=2, random_state=42)\n",
    "X_train_lda = lda.fit_transform(X_train_count)\n",
    "X_val_lda = lda.transform(X_val_count)\n",
    "X_test_lda = lda.transform(X_test_count)"
   ]
  },
  {
   "cell_type": "code",
   "execution_count": 12,
   "metadata": {},
   "outputs": [],
   "source": [
    "import multiprocessing as mp\n",
    "import time"
   ]
  },
  {
   "cell_type": "code",
   "execution_count": 13,
   "metadata": {},
   "outputs": [],
   "source": [
    "# Define a function to check if any of the search terms are in the article\n",
    "def contains_search_term(article, search_terms):\n",
    "    return any(term in article for term in search_terms)\n"
   ]
  },
  {
   "cell_type": "code",
   "execution_count": 14,
   "metadata": {},
   "outputs": [],
   "source": [
    "# Function to search for specific words in articles\n",
    "def search_words(articles, search_terms):\n",
    "    search_results = []\n",
    "    for article in articles:\n",
    "        if any(term in article for term in search_terms):\n",
    "            search_results.append(article)\n",
    "    return search_results"
   ]
  },
  {
   "cell_type": "code",
   "execution_count": 15,
   "metadata": {},
   "outputs": [],
   "source": [
    "# Example search terms\n",
    "search_terms = ['Mary', 'beer']\n",
    "\n",
    "# Search for articles containing the search terms\n",
    "search_results = search_words(df['sentence'], search_terms)"
   ]
  },
  {
   "cell_type": "code",
   "execution_count": 16,
   "metadata": {},
   "outputs": [
    {
     "name": "stdout",
     "output_type": "stream",
     "text": [
      "Number of search results: 1\n"
     ]
    }
   ],
   "source": [
    "print(\"Number of search results:\", len(search_results))"
   ]
  },
  {
   "cell_type": "code",
   "execution_count": 17,
   "metadata": {},
   "outputs": [],
   "source": [
    "# Extract hot keywords from search results using TF-IDF\n",
    "search_results_tfidf = tfidf_vectorizer.transform(search_results)\n",
    "hot_keywords = tfidf_vectorizer.get_feature_names_out()"
   ]
  },
  {
   "cell_type": "code",
   "execution_count": 18,
   "metadata": {},
   "outputs": [
    {
     "name": "stdout",
     "output_type": "stream",
     "text": [
      "Search Results:\n",
      "['i ordered if john drink his beer']\n"
     ]
    }
   ],
   "source": [
    "# Display results\n",
    "print(\"Search Results:\")\n",
    "print(search_results)"
   ]
  },
  {
   "cell_type": "code",
   "execution_count": 14,
   "metadata": {},
   "outputs": [],
   "source": [
    "# Function to search for specific words in articles using multiprocessing\n",
    "def search_words_parallel(articles, search_terms):\n",
    "    with mp.Pool(mp.cpu_count()) as pool:\n",
    "        search_results = pool.starmap(contains_search_term, [(article, search_terms) for article in articles])\n",
    "    return [article for article, result in zip(articles, search_results) if result]"
   ]
  },
  {
   "cell_type": "code",
   "execution_count": 15,
   "metadata": {},
   "outputs": [],
   "source": [
    "# Example search terms\n",
    "search_terms = ['mary']\n",
    "\n",
    "# Search for articles containing the search terms\n",
    "start_time = time.time()\n",
    "search_results = search_words_parallel(df['sentence'], search_terms)\n",
    "end_time = time.time()\n",
    "\n",
    "print(f\"Number of search results: {len(search_results)} (Time taken: {end_time - start_time:.2f}s)\")"
   ]
  },
  {
   "cell_type": "code",
   "execution_count": 19,
   "metadata": {},
   "outputs": [],
   "source": [
    "# Extract hot keywords from search results using TF-IDF\n",
    "search_results_tfidf = tfidf_vectorizer.transform(search_results)\n",
    "hot_keywords_tfidf = tfidf_vectorizer.get_feature_names_out()"
   ]
  },
  {
   "cell_type": "code",
   "execution_count": 20,
   "metadata": {},
   "outputs": [
    {
     "name": "stdout",
     "output_type": "stream",
     "text": [
      "Search Results:\n",
      "['i ordered if john drink his beer']\n",
      "\n",
      "Hot Keywords (TF-IDF):\n",
      "['and' 'in' 'is' 'it' 'john' 'of' 'that' 'the' 'to' 'you']\n",
      "[[0. 0. 0. 0. 1. 0. 0. 0. 0. 0.]]\n"
     ]
    }
   ],
   "source": [
    "# Display results\n",
    "print(\"Search Results:\")\n",
    "print(search_results)\n",
    "\n",
    "print(\"\\nHot Keywords (TF-IDF):\")\n",
    "print(hot_keywords_tfidf)\n",
    "print(search_results_tfidf.toarray())"
   ]
  },
  {
   "cell_type": "code",
   "execution_count": 21,
   "metadata": {},
   "outputs": [],
   "source": [
    "# Example of using gensim for Word2Vec\n",
    "tokenized_articles = [article.split() for article in df['sentence']]\n",
    "word2vec_model = Word2Vec(sentences=tokenized_articles, vector_size=100, window=5, min_count=1, workers=mp.cpu_count())"
   ]
  },
  {
   "cell_type": "code",
   "execution_count": 22,
   "metadata": {},
   "outputs": [],
   "source": [
    "# Extract hot keywords from search results using Word2Vec\n",
    "def get_word2vec_keywords(model, search_results, top_n=10):\n",
    "    all_keywords = []\n",
    "    for article in search_results:\n",
    "        words = article.split()\n",
    "        keywords = [word for word in words if word in model.wv]\n",
    "        all_keywords.extend(keywords)\n",
    "    return sorted(set(all_keywords), key=lambda word: model.wv[word], reverse=True)[:top_n]"
   ]
  },
  {
   "cell_type": "code",
   "execution_count": null,
   "metadata": {},
   "outputs": [],
   "source": [
    "hot_keywords_word2vec = get_word2vec_keywords(word2vec_model, search_results)"
   ]
  },
  {
   "cell_type": "code",
   "execution_count": null,
   "metadata": {},
   "outputs": [],
   "source": [
    "# Compare TF-IDF and Word2Vec\n",
    "def compare_techniques(tfidf_keywords, word2vec_keywords, search_terms):\n",
    "    tfidf_similarity = cosine_similarity(tfidf_vectorizer.transform([' '.join(tfidf_keywords)]), tfidf_vectorizer.transform([' '.join(search_terms)]))\n",
    "    word2vec_similarity = np.mean([word2vec_model.wv.similarity(word, search_terms[0]) for word in word2vec_keywords if word in word2vec_model.wv])\n",
    "\n",
    "    print(\"\\nTF-IDF Hot Keywords:\")\n",
    "    print(tfidf_keywords)\n",
    "    print(\"TF-IDF Similarity to Search Terms:\", tfidf_similarity[0][0])\n",
    "\n",
    "    print(\"\\nWord2Vec Hot Keywords:\")\n",
    "    print(word2vec_keywords)\n",
    "    print(\"Word2Vec Similarity to Search Terms:\", word2vec_similarity)\n",
    "\n",
    "compare_techniques(hot_keywords_tfidf, hot_keywords_word2vec, search_terms)"
   ]
  },
  {
   "cell_type": "code",
   "execution_count": null,
   "metadata": {},
   "outputs": [],
   "source": []
  }
 ],
 "metadata": {
  "kernelspec": {
   "display_name": "Python 3",
   "language": "python",
   "name": "python3"
  },
  "language_info": {
   "codemirror_mode": {
    "name": "ipython",
    "version": 3
   },
   "file_extension": ".py",
   "mimetype": "text/x-python",
   "name": "python",
   "nbconvert_exporter": "python",
   "pygments_lexer": "ipython3",
   "version": "3.10.14"
  }
 },
 "nbformat": 4,
 "nbformat_minor": 2
}
